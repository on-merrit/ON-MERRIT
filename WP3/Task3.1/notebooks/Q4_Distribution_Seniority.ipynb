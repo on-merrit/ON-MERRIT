{
 "cells": [
  {
   "cell_type": "markdown",
   "metadata": {},
   "source": [
    "# Distribution of seniority (number of years since first publication until last publication) of the staff at a particular university."
   ]
  },
  {
   "cell_type": "code",
   "execution_count": null,
   "metadata": {},
   "outputs": [],
   "source": [
    "# standard path wrangling to be able to import project config and sources\n",
    "import os\n",
    "import sys\n",
    "root = os.path.dirname(os.getcwd())  # One can walk up the directory tree by calling os.path.dirname as many times as needed.\n",
    "sys.path.append(root)\n",
    "print('Project root: {}'.format(root))"
   ]
  },
  {
   "cell_type": "markdown",
   "metadata": {},
   "source": [
    "Imports:"
   ]
  },
  {
   "cell_type": "code",
   "execution_count": null,
   "metadata": {},
   "outputs": [],
   "source": [
    "!ls .."
   ]
  },
  {
   "cell_type": "code",
   "execution_count": null,
   "metadata": {},
   "outputs": [],
   "source": [
    "# Built-in\n",
    "import csv\n",
    "import json\n",
    "from os.path import join as pjoin\n",
    "\n",
    "# Installed\n",
    "import pandas as pd\n",
    "from tqdm import tqdm\n",
    "import seaborn as sns\n",
    "import matplotlib as mpl\n",
    "import matplotlib.pyplot as plt\n",
    "import numpy as np\n",
    "from datetime import date\n",
    "import math"
   ]
  },
  {
   "cell_type": "markdown",
   "metadata": {},
   "source": [
    "Other setup:"
   ]
  },
  {
   "cell_type": "code",
   "execution_count": null,
   "metadata": {},
   "outputs": [],
   "source": [
    "sns.set()\n",
    "palette = sns.color_palette('muted')\n",
    "sns.set_palette(palette)\n",
    "\n",
    "pd.options.display.float_format = '{:.2f}'.format\n",
    "pd.set_option('max_colwidth', 800)\n",
    "pd.set_option('display.max_rows', 1000)"
   ]
  },
  {
   "cell_type": "code",
   "execution_count": null,
   "metadata": {},
   "outputs": [],
   "source": []
  },
  {
   "cell_type": "code",
   "execution_count": null,
   "metadata": {},
   "outputs": [],
   "source": [
    "def get_author_seniority_years_count(univ_df):\n",
    "    authors_seniority = []\n",
    "    for author_id in univ_df.authorid.unique():\n",
    "        author_df = univ_df[univ_df['authorid']==author_id]\n",
    "        author_dates_df = author_df.loc[:,['date']]\n",
    "        \n",
    "        author_min_date = author_dates_df.date.min()\n",
    "        author_max_date = author_dates_df.date.max()\n",
    "        # https://stackoverflow.com/a/151211\n",
    "        delta = author_max_date - author_min_date\n",
    "        author_seniority_years = delta.days/365.00 # delta doesn't have years attribute\n",
    "        authors_seniority.append(author_seniority_years)\n",
    "    return authors_seniority"
   ]
  },
  {
   "cell_type": "code",
   "execution_count": null,
   "metadata": {},
   "outputs": [],
   "source": [
    "def get_all_univ_names_of_country(q4_df_copy, country_name):\n",
    "    country_df = q4_df_copy[q4_df_copy[\"country_name\"]==country_name]\n",
    "    return country_df[\"institution_name\"].unique()"
   ]
  },
  {
   "cell_type": "code",
   "execution_count": null,
   "metadata": {},
   "outputs": [],
   "source": [
    "def get_buckets_counts(univ_author_seniority_years):\n",
    "    count_0_to_5 = 0\n",
    "    count_5dot1_to_10 = 0\n",
    "    count_10dot1_to_15 = 0\n",
    "    count_15dot1_to_20 = 0\n",
    "    count_20dot1_to_25 = 0\n",
    "    count_25dot1_to_30 = 0\n",
    "    count_over_30 = 0\n",
    "    for x in univ_author_seniority_years:\n",
    "        if x>0 and x<=5:\n",
    "            count_0_to_5 = count_0_to_5 + 1\n",
    "        if x>5 and x<=10:\n",
    "            count_5dot1_to_10 = count_5dot1_to_10 + 1\n",
    "        if x>10 and x<=15:\n",
    "            count_10dot1_to_15 = count_10dot1_to_15 + 1\n",
    "        if x>15 and x<=20:\n",
    "            count_15dot1_to_20 = count_15dot1_to_20 + 1\n",
    "        if x>20 and x<=25:\n",
    "            count_20dot1_to_25 = count_20dot1_to_25 + 1\n",
    "        if x>25 and x<=30:\n",
    "            count_25dot1_to_30 = count_25dot1_to_30 + 1\n",
    "        if x>30:\n",
    "            count_over_30 = count_over_30 + 1\n",
    "    return [count_0_to_5,count_5dot1_to_10,count_10dot1_to_15,count_15dot1_to_20,count_20dot1_to_25,count_25dot1_to_30,count_over_30]"
   ]
  },
  {
   "cell_type": "code",
   "execution_count": null,
   "metadata": {},
   "outputs": [],
   "source": [
    "def add_bar_plot_for_country(univs_author_seniority_copy, country_all_univs_names, country_name):\n",
    "    # Copied from http://python-graph-gallery.com/11-grouped-barplot/ and https://python-graph-gallery.com/13-percent-stacked-barplot/\n",
    "    \n",
    "    # set width of bar\n",
    "    barWidth = 0.10\n",
    "\n",
    "    \n",
    "    bucket1_values = []  # Each element here is the count of bucket1 values from a distinct university\n",
    "    bucket2_values = [] # Each element here is the count of bucket2 values from the corresponding university\n",
    "    bucket3_values = [] # Each element here is the count of bucket3 values from the corresponding university\n",
    "    bucket4_values = [] # Each element here is the count of bucket4 values from the corresponding university\n",
    "    bucket5_values = [] # Each element here is the count of bucket5 values from the corresponding university\n",
    "    bucket6_values = [] # Each element here is the count of bucket6 values from the corresponding university\n",
    "    bucket7_values = [] # Each element here is the count of bucket7 values from the corresponding university\n",
    "    \n",
    "    for univ_name in country_all_univs_names:\n",
    "        count_buckets = get_buckets_counts(univs_author_seniority_copy[univ_name])\n",
    "        bucket1_values.append(count_buckets[0])\n",
    "        bucket2_values.append(count_buckets[1])\n",
    "        bucket3_values.append(count_buckets[2])\n",
    "        bucket4_values.append(count_buckets[3])\n",
    "        bucket5_values.append(count_buckets[4])\n",
    "        bucket6_values.append(count_buckets[5])\n",
    "        bucket7_values.append(count_buckets[6])\n",
    "        \n",
    "    \n",
    "    \n",
    "    \n",
    "    \n",
    "    # From raw values to percentage\n",
    "    raw_data = {'<=5':bucket1_values, '>5 and <=10': bucket2_values, '>10 and <=15': bucket3_values, '>15 and <=20': bucket4_values, '>20 and <=25': bucket5_values, '>25 and <=30': bucket6_values, '>30': bucket7_values}\n",
    "    raw_data_df = pd.DataFrame(raw_data)\n",
    "    totals = [a+b+c+d+e+f+g for a,b,c,d,e,f,g in zip(raw_data_df['<=5'], raw_data_df['>5 and <=10'], raw_data_df['>10 and <=15'], raw_data_df['>15 and <=20'], raw_data_df['>20 and <=25'], raw_data_df['>25 and <=30'], raw_data_df['>30'])]\n",
    "    first_bucket_bars = [i / j * 100 for i,j in zip(raw_data_df['<=5'], totals)]\n",
    "    second_bucket_bars = [i / j * 100 for i,j in zip(raw_data_df['>5 and <=10'], totals)]\n",
    "    third_bucket_bars = [i / j * 100 for i,j in zip(raw_data_df['>10 and <=15'], totals)]\n",
    "    forth_bucket_bars = [i / j * 100 for i,j in zip(raw_data_df['>15 and <=20'], totals)]\n",
    "    fifth_bucket_bars = [i / j * 100 for i,j in zip(raw_data_df['>20 and <=25'], totals)]\n",
    "    sixth_bucket_bars = [i / j * 100 for i,j in zip(raw_data_df['>25 and <=30'], totals)]\n",
    "    last_bucket_bars = [i / j * 100 for i,j in zip(raw_data_df['>30'], totals)]\n",
    "    \n",
    "    \n",
    "    \n",
    "    # Set position of bar on X axis\n",
    "    r1 = np.arange(len(first_bucket_bars))\n",
    "    r2 = [x + barWidth for x in r1]\n",
    "    r3 = [x + barWidth for x in r2]\n",
    "    r4 = [x + barWidth for x in r3]\n",
    "    r5 = [x + barWidth for x in r4]\n",
    "    r6 = [x + barWidth for x in r5]\n",
    "    r7 = [x + barWidth for x in r6]\n",
    "\n",
    "    \n",
    "    \n",
    "    # Create plots\n",
    "    plt.bar(r1, first_bucket_bars, color='dodgerblue', edgecolor='white', width=barWidth, label=\"<=5 years\")\n",
    "    plt.bar(r2, second_bucket_bars, color='purple', edgecolor='white', width=barWidth, label=\">5 and <=10 years\")\n",
    "    plt.bar(r3, third_bucket_bars, color='limegreen', edgecolor='white', width=barWidth, label=\">10 and <=15 years\")\n",
    "    plt.bar(r4, forth_bucket_bars, color='yellow', edgecolor='white', width=barWidth, label=\">15 and <=20 years\")\n",
    "    plt.bar(r5, fifth_bucket_bars, color='darkkhaki', edgecolor='white', width=barWidth, label=\">20 and <=25 years\")\n",
    "    plt.bar(r6, sixth_bucket_bars, color='orange', edgecolor='white', width=barWidth, label=\">25 and <=30 years\")\n",
    "    plt.bar(r7, last_bucket_bars, color='red', edgecolor='white', width=barWidth, label=\">30 years\")\n",
    "    \n",
    "    # plt.bar(oa_bars, color='#7f6d5f', width=barWidth, edgecolor='white', label='OA')\n",
    "    # plt.bar(unknown_bars, color='#557f2d', width=barWidth, edgecolor='white', label='unknown')\n",
    "\n",
    "\n",
    "    # Custom x axis\n",
    "    plt.xticks([r + barWidth for r in range(len(first_bucket_bars))], country_all_univs_names, fontweight='bold')\n",
    "    plt.xlabel(country_name.upper(), fontweight='bold', color='deeppink', size=20)\n",
    "    \n",
    "    plt.yticks([0,20,40,60,80,100], [0,20,40,60,80,100])\n",
    "\n",
    "    plt.ylabel(\"% Authors Count\", fontweight='bold', color='deeppink', size=20)\n",
    "\n",
    "    # Add a legend\n",
    "    plt.legend(loc='upper left', bbox_to_anchor=(1,1), ncol=1)"
   ]
  },
  {
   "cell_type": "code",
   "execution_count": null,
   "metadata": {},
   "outputs": [],
   "source": []
  },
  {
   "cell_type": "code",
   "execution_count": null,
   "metadata": {},
   "outputs": [],
   "source": [
    "q4_df = pd.read_csv(pjoin(root, \"data/raw/dataset_question4/all_authors.csv\"), sep=\",\", header=0)\n",
    "print(q4_df.shape)"
   ]
  },
  {
   "cell_type": "code",
   "execution_count": null,
   "metadata": {},
   "outputs": [],
   "source": [
    "q4_df.head(400000).tail(10)"
   ]
  },
  {
   "cell_type": "code",
   "execution_count": null,
   "metadata": {},
   "outputs": [],
   "source": [
    "print(q4_df.info())"
   ]
  },
  {
   "cell_type": "code",
   "execution_count": null,
   "metadata": {},
   "outputs": [],
   "source": [
    "# Convert the date column which is a string(strings are denoted as object type in Python)\n",
    "q4_df['date'] =  pd.to_datetime(q4_df['date'], format='%Y-%m-%d')\n",
    "\n",
    "# Confirm the date column is in datetime format\n",
    "print(q4_df.info())"
   ]
  },
  {
   "cell_type": "code",
   "execution_count": null,
   "metadata": {},
   "outputs": [],
   "source": [
    "# Now we can retrieve the individual bits of date -- month, year and day\n",
    "'''\n",
    "print(q4_df['date'][399992].year)\n",
    "print(q4_df['date'][399992].month)\n",
    "print(q4_df['date'][399992].day)\n",
    "'''"
   ]
  },
  {
   "cell_type": "code",
   "execution_count": null,
   "metadata": {},
   "outputs": [],
   "source": [
    "univs_author_seniority_stats = {}\n",
    "for univ_name in q4_df.institution_name.unique():\n",
    "    print(univ_name)\n",
    "    univ_df = q4_df[q4_df[\"institution_name\"]==univ_name]\n",
    "    result_univ_authors_seniority = get_author_seniority_years_count(univ_df)\n",
    "#     print(result_univ_authors_seniority)\n",
    "    univs_author_seniority_stats[univ_name] = result_univ_authors_seniority\n",
    "    print(\"\\n\")"
   ]
  },
  {
   "cell_type": "markdown",
   "metadata": {},
   "source": [
    "# Country Wise Plot"
   ]
  },
  {
   "cell_type": "code",
   "execution_count": null,
   "metadata": {},
   "outputs": [],
   "source": [
    "country_names = q4_df.country_name.unique()\n",
    "plot_total_rows_count = len(country_names)\n",
    "plot_total_cols_count = max(len(get_all_univ_names_of_country(q4_df,country_name)) for country_name in country_names)\n",
    "print(plot_total_rows_count, plot_total_cols_count)"
   ]
  },
  {
   "cell_type": "code",
   "execution_count": null,
   "metadata": {},
   "outputs": [],
   "source": [
    "fig = plt.figure(figsize=(44, len(country_names)*5), dpi=180)\n",
    "# plt.subplots_adjust(hspace = 1.5)  # the vertical distance betweeen two subplots\n",
    "\n",
    "# plot_row_nb = 0\n",
    "plot_nb = 1\n",
    "\n",
    "for country_name in country_names:\n",
    "    plt.subplot(len(country_names),1, plot_nb)  # First coloumn of every row; the plot for a new country.\n",
    "    country_all_univs_names = get_all_univ_names_of_country(q4_df,country_name)\n",
    "    print(country_name + \": \" + str(country_all_univs_names))\n",
    "    add_bar_plot_for_country(univs_author_seniority_stats, country_all_univs_names, country_name)\n",
    "#     add_bar_plot_for_country(plot_total_rows_count, plot_total_cols_count, plot_row_nb, univs_author_seniority_stats, country_all_univs_names, country_name)\n",
    "    plot_nb = plot_nb + 1\n",
    "#     plot_row_nb = plot_row_nb + 1\n",
    "    print(\"\\n\")\n",
    "    \n",
    "# fig.suptitle('% Distribution of seniority (number of years since their first publication until last publication) of staff at universities')\n",
    "\n",
    "\n",
    "plt.savefig(pjoin(root, \"documents/dataset_question4/ds_q4_analysis.png\"), bbox_inches='tight')\n",
    "plt.savefig(pjoin(root, \"documents/dataset_question4/ds_q4_analysis.pdf\"), bbox_inches='tight')\n",
    "\n",
    "plt.show()"
   ]
  },
  {
   "cell_type": "code",
   "execution_count": null,
   "metadata": {},
   "outputs": [],
   "source": []
  },
  {
   "cell_type": "code",
   "execution_count": null,
   "metadata": {},
   "outputs": [],
   "source": []
  },
  {
   "cell_type": "code",
   "execution_count": null,
   "metadata": {},
   "outputs": [],
   "source": []
  },
  {
   "cell_type": "code",
   "execution_count": null,
   "metadata": {},
   "outputs": [],
   "source": []
  }
 ],
 "metadata": {
  "language_info": {
   "name": "python",
   "pygments_lexer": "ipython3"
  }
 },
 "nbformat": 4,
 "nbformat_minor": 2
}
