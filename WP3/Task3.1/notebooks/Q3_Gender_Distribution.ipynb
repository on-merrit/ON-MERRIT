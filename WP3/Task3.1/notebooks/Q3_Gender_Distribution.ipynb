{
 "cells": [
  {
   "cell_type": "markdown",
   "metadata": {},
   "source": [
    "# This will create plots for institutions of universities in THE WUR univs only and for the period of 2007-2017. The input dataset contains info of THE WUR univs only but for any period of time."
   ]
  },
  {
   "cell_type": "markdown",
   "metadata": {},
   "source": [
    "#### This is to be compatible with other analysis questions which used dataset from the period of 2007 to 2017"
   ]
  },
  {
   "cell_type": "markdown",
   "metadata": {},
   "source": [
    "#### Note: \n",
    "\n",
    "#### The gender in the csv are i)unknown (name not found), ii) andy (androgynous), iii) male, iv) female, v) mostly_male and vi) mostly_female following the schema used by the external library we used to determine the gender -- https://pypi.org/project/gender-guesser/ . The difference between andy and unknown is that the former is found to have the same probability to be male than to be female, while the later means that the name wasn’t found in the database.\n",
    "\n",
    "#### For our purposes, i)unknow/andy --> unknown ii)male/mostly_male --> male and iii)female/mostly_female --> female"
   ]
  },
  {
   "cell_type": "markdown",
   "metadata": {},
   "source": [
    "## Question : What is the gender distribution in authorship of papers published by the universities?"
   ]
  },
  {
   "cell_type": "code",
   "execution_count": null,
   "metadata": {},
   "outputs": [],
   "source": [
    "# standard path wrangling to be able to import project config and sources\n",
    "import os\n",
    "import sys\n",
    "from os.path import join\n",
    "root = os.path.dirname(os.getcwd())\n",
    "sys.path.append(root)\n",
    "print('Project root: {}'.format(root))"
   ]
  },
  {
   "cell_type": "code",
   "execution_count": null,
   "metadata": {},
   "outputs": [],
   "source": [
    "sys.path.append(join(root,\"spark/shared/\"))\n",
    "from MAG_utils import *"
   ]
  },
  {
   "cell_type": "code",
   "execution_count": null,
   "metadata": {},
   "outputs": [],
   "source": []
  },
  {
   "cell_type": "code",
   "execution_count": null,
   "metadata": {},
   "outputs": [],
   "source": [
    "# Built-in\n",
    "import json\n",
    "\n",
    "# Installed\n",
    "import numpy as np\n",
    "import pandas as pd\n",
    "import seaborn as sns\n",
    "import matplotlib as mpl\n",
    "import matplotlib.pyplot as plt\n",
    "import matplotlib.ticker as ticker\n",
    "from matplotlib import rc,rcParams\n",
    "from matplotlib.patches import Rectangle\n",
    "import swifter\n",
    "\n",
    "import unicodedata\n",
    "import re\n",
    "from statistics import mean\n",
    "\n",
    "import ast"
   ]
  },
  {
   "cell_type": "code",
   "execution_count": null,
   "metadata": {},
   "outputs": [],
   "source": [
    "cfg = None\n",
    "with open(join(root,\"spark/config.json\")) as fp:\n",
    "    cfg = json.load(fp)"
   ]
  },
  {
   "cell_type": "code",
   "execution_count": null,
   "metadata": {},
   "outputs": [],
   "source": [
    "# cfg"
   ]
  },
  {
   "cell_type": "code",
   "execution_count": null,
   "metadata": {},
   "outputs": [],
   "source": [
    "cnames_for_plot = {\n",
    "    \"austria\" : \"Austria\",\n",
    "    \"brazil\" : \"Brazil\",\n",
    "    \"germany\" : \"Germany\",\n",
    "    \"india\" : \"India\",\n",
    "    \"portugal\" : \"Portugal\",\n",
    "    \"russia\" : \"Russia\",\n",
    "    \"uk\" : \"UK\",\n",
    "    \"usa\" : \"USA\"\n",
    "}"
   ]
  },
  {
   "cell_type": "code",
   "execution_count": null,
   "metadata": {},
   "outputs": [],
   "source": [
    "output_dir = join(root,\"documents/analysis/dataset_selection_question3\")"
   ]
  },
  {
   "cell_type": "code",
   "execution_count": null,
   "metadata": {},
   "outputs": [],
   "source": [
    "# Create a new directory to save results\n",
    "os.makedirs(output_dir)"
   ]
  },
  {
   "cell_type": "code",
   "execution_count": null,
   "metadata": {},
   "outputs": [],
   "source": [
    "study_years = [2007,2008,2009,2010,2011,2012,2013,2014,2015,2016,2017]"
   ]
  },
  {
   "cell_type": "code",
   "execution_count": null,
   "metadata": {},
   "outputs": [],
   "source": []
  },
  {
   "cell_type": "code",
   "execution_count": null,
   "metadata": {},
   "outputs": [],
   "source": []
  },
  {
   "cell_type": "code",
   "execution_count": null,
   "metadata": {},
   "outputs": [],
   "source": []
  },
  {
   "cell_type": "markdown",
   "metadata": {},
   "source": [
    "# Extraction of count of papers in each of the three gender categories for  publications coming from each university."
   ]
  },
  {
   "cell_type": "code",
   "execution_count": null,
   "metadata": {},
   "outputs": [],
   "source": [
    "def get_univ_authors_gender_counts(country_papers_fos_df, univs_name):    \n",
    "    '''\n",
    "    Get the plot of count of papers in each discipline from each university in the input country.\n",
    "    '''\n",
    "    univs_info = {}\n",
    "    \n",
    "    univs_not_found = []\n",
    "    univs_found = []\n",
    "    \n",
    "    for org_univ_name in set(univs_name):  # remove duplicate univ names in the THE list, if any\n",
    "#         print(org_univ_name)\n",
    "\n",
    "        THE_univ_name_normalised = mag_normalisation_institution_names(org_univ_name)\n",
    "    \n",
    "        '''\n",
    "        The dataframe that will be selected for the current univ is either :\n",
    "        1. When the MAG normalizedname column matches to THE_univ_name_normalised\n",
    "        or\n",
    "        2. When the MAG normalised(wikiname) matches to THE_univ_name_normalised -- this matches English names (in MAG wiki links as well as THE) of non English name (in MAG normalisedname or displayname) universities.\n",
    "        '''\n",
    "        univ_papers_df_set1 = country_papers_fos_df[country_papers_fos_df['normalizedname']==THE_univ_name_normalised]\n",
    "        \n",
    "        univ_papers_df_set2 = country_papers_fos_df[country_papers_fos_df['normalizedwikiname']==THE_univ_name_normalised]\n",
    "        \n",
    "        # The records in two sets can be the exactly the same \n",
    "        # Concat and remove exact duplicates  -- https://stackoverflow.com/a/21317570/530399\n",
    "        univ_papers_df = pd.concat([univ_papers_df_set1, univ_papers_df_set2]).drop_duplicates().reset_index(drop=True)\n",
    "\n",
    "#         Put additional criteria that these papers are from 2007 till 2017\n",
    "        univ_papers_df = univ_papers_df[univ_papers_df['year'].isin(study_years)]\n",
    "        \n",
    "        \n",
    "        # For those I couldn't match/find their name, it is not fair to say that their count of papers in any discipline was 0. Should be excluded from the graph.\n",
    "        if len(univ_papers_df)==0:\n",
    "            univs_not_found.append(org_univ_name+\"    @    \"+THE_univ_name_normalised)\n",
    "        else:\n",
    "            univs_found.append(org_univ_name)\n",
    "            \n",
    "            # here, we are going to count gender against the total records count -- because each paper could have multiple male (or female) authors. This dataset is about authorship, not about paper.\n",
    "            count_total_authors = len(univ_papers_df)\n",
    "            \n",
    "            count_male_authors = len(univ_papers_df[univ_papers_df['gender']==\"male\"])+len(univ_papers_df[univ_papers_df['gender']==\"mostly_male \"])\n",
    "            count_female_authors = len(univ_papers_df[univ_papers_df['gender']==\"female\"])+len(univ_papers_df[univ_papers_df['gender']==\"mostly_female\"])\n",
    "            count_unknown_authors = len(univ_papers_df[univ_papers_df['gender']==\"unknown\"])+len(univ_papers_df[univ_papers_df['gender']==\"andy\"])\n",
    "            \n",
    "            \n",
    "            univs_info[org_univ_name] = {}\n",
    "            \n",
    "            \n",
    "            \n",
    "            \n",
    "            univ_male_percent = (count_male_authors*100.00)/count_total_authors\n",
    "            univ_female_percent = (count_female_authors*100.00)/count_total_authors\n",
    "            univ_unknown_percent = (count_unknown_authors*100.00)/count_total_authors\n",
    "            \n",
    "        \n",
    "            \n",
    "            \n",
    "            univs_info[org_univ_name][\"count_male_authors\"] = count_male_authors\n",
    "            univs_info[org_univ_name][\"percent_male_authors\"] = univ_male_percent\n",
    "            \n",
    "            univs_info[org_univ_name][\"count_female_authors\"] = count_female_authors\n",
    "            univs_info[org_univ_name][\"percent_female_authors\"] = univ_female_percent\n",
    "            \n",
    "            univs_info[org_univ_name][\"count_unknown_authors\"] = count_unknown_authors\n",
    "            univs_info[org_univ_name][\"percent_unknown_authors\"] = univ_unknown_percent\n",
    "            \n",
    "            univs_info[org_univ_name][\"count_total_authors\"] = count_total_authors\n",
    "        \n",
    "    return univs_info, univs_not_found, univs_found"
   ]
  },
  {
   "cell_type": "code",
   "execution_count": null,
   "metadata": {},
   "outputs": [],
   "source": [
    "all_countries_all_univs_gender_info = {}\n",
    "all_countries_univs_found_not_found = {}\n",
    "\n",
    "for country_name,univs_name in cfg['data']['all_THE_WUR_institutions_by_country'].items():\n",
    "    print(\"\\nProcesing for dataset of univs in \"+country_name+\"\\n\")\n",
    "    all_countries_univs_found_not_found[country_name] =  {}\n",
    "    \n",
    "    # CSV has repeated header from multiple partitions of the merge on pyspark csv output. Hence need to treat as string.\n",
    "    country_papers_authors_df = pd.read_csv(join(root,\"data/processed/author_gender_\"+country_name+\"_papers.csv\"), header=0, sep=\",\", dtype={\"year\": object})  # object means string\n",
    "    \n",
    "        \n",
    "    # Then eliminate problematic lines\n",
    "    #  temp fix until spark csv merge header issue is resolved -- the header line is present in each re-partition's output csv\n",
    "    country_papers_authors_df.drop(country_papers_authors_df[country_papers_authors_df.paperid == \"paperid\"].index, inplace=True)\n",
    "    # Then reset dtypes as needed.\n",
    "    country_papers_authors_df = country_papers_authors_df.astype({'year':int})\n",
    "    \n",
    "    \n",
    "    univs_info, univs_not_found, univs_found = get_univ_authors_gender_counts(country_papers_authors_df, univs_name)\n",
    "    \n",
    "    all_countries_all_univs_gender_info[country_name] =  univs_info\n",
    "    \n",
    "    count_total_univs = len(univs_not_found) + len(univs_found)\n",
    "    \n",
    "    not_found_details = {}\n",
    "    not_found_details['univ_names'] = univs_not_found\n",
    "    not_found_details['count_univs'] = len(univs_not_found)\n",
    "    not_found_details['percent_univs'] = (len(univs_not_found)*100.00)/count_total_univs\n",
    "    \n",
    "    found_details = {}\n",
    "    found_details['univ_names'] = univs_found\n",
    "    found_details['count_univs'] = len(univs_found)\n",
    "    found_details['percent_univs'] = (len(univs_found)*100.00)/count_total_univs\n",
    "    \n",
    "    \n",
    "    all_details = {}\n",
    "    all_details['count_univs'] = count_total_univs\n",
    "    \n",
    "    all_countries_univs_found_not_found[country_name]['not_found'] = not_found_details\n",
    "    all_countries_univs_found_not_found[country_name]['found'] = found_details\n",
    "    all_countries_univs_found_not_found[country_name]['all'] = all_details\n",
    "    \n",
    "    \n",
    "        \n",
    "    print(\"Computed counts of gender for all authors in all univs \"+country_name+\"\\n\")"
   ]
  },
  {
   "cell_type": "code",
   "execution_count": null,
   "metadata": {},
   "outputs": [],
   "source": [
    "# Write text files with the infos\n",
    "\n",
    "with open(join(output_dir,'all_countries_univs_found_not_found.txt'), 'w') as file:\n",
    "     file.write(json.dumps(all_countries_univs_found_not_found, sort_keys=True, indent=4, ensure_ascii=False))\n",
    "        \n",
    "with open(join(output_dir,'all_countries_all_univs_gender_info.txt'), 'w') as file:\n",
    "     file.write(json.dumps(all_countries_all_univs_gender_info, sort_keys=True, indent=4, ensure_ascii=False)) "
   ]
  },
  {
   "cell_type": "code",
   "execution_count": null,
   "metadata": {},
   "outputs": [],
   "source": []
  },
  {
   "cell_type": "code",
   "execution_count": null,
   "metadata": {},
   "outputs": [],
   "source": []
  },
  {
   "cell_type": "markdown",
   "metadata": {},
   "source": [
    "# Load data from previously saved files"
   ]
  },
  {
   "cell_type": "code",
   "execution_count": null,
   "metadata": {},
   "outputs": [],
   "source": [
    "with open(join(output_dir,'all_countries_all_univs_gender_info.txt')) as file:\n",
    "     all_countries_all_univs_gender_info = json.load(file)\n",
    "        \n",
    "print(all_countries_all_univs_gender_info)"
   ]
  },
  {
   "cell_type": "markdown",
   "metadata": {},
   "source": [
    "# Create bar plot for each of the countries"
   ]
  },
  {
   "cell_type": "code",
   "execution_count": null,
   "metadata": {},
   "outputs": [],
   "source": [
    "def label_bar_with_value(ax, rects, value_labels):\n",
    "    \"\"\"\n",
    "    Attach a text label above each bar displaying its height\n",
    "    \"\"\"\n",
    "    for i in range(len(rects)):\n",
    "        rect = rects[i]\n",
    "        label_value = value_labels[i]\n",
    "        ax.text(rect.get_x() + rect.get_width()/2., 1.05*rect.get_height(),\n",
    "                '%s' % label_value,\n",
    "                ha='center', va='bottom')\n",
    "\n",
    "def create_sorted_plot(input_df, sorting_field_count, sorting_field_percent, other_fields_count, colors2plot, ylabel, xlabel, legend_text, save_fname, save_file):\n",
    "    \n",
    "    second_field_count = other_fields_count[0]\n",
    "    third_field_count = other_fields_count[1]\n",
    "    \n",
    "    # sort the df based on the sorting_field_percent\n",
    "    df = input_df.sort_values(sorting_field_percent, ascending=False)[['univs_name', sorting_field_count, second_field_count, third_field_count, sorting_field_percent]]\n",
    "\n",
    "\n",
    "    # Setting the positions and width for the bars\n",
    "    pos = list(range(len(df['univs_name']))) \n",
    "    width = 0.25 \n",
    "\n",
    "    # Plotting the bars\n",
    "    fig, ax = plt.subplots(figsize=(25,10))\n",
    "\n",
    "    # Create a bar with sorting_field_count data,\n",
    "    # in position pos,\n",
    "    sorting_field_bar = ax.bar(pos, \n",
    "            #using df['proportion_univs_agriculture'] data,\n",
    "            df[sorting_field_count], \n",
    "            # of width\n",
    "            width, \n",
    "            # with alpha 0.5\n",
    "            alpha=0.5, \n",
    "            # with color\n",
    "            color= colors2plot[sorting_field_count], \n",
    "            )\n",
    "    # Create labels with percentage values\n",
    "    sorting_field_proportion_value_labels = [str(int(x))+\"%\" for x in df[sorting_field_percent].values.tolist()]\n",
    "\n",
    "\n",
    "    # Create a bar with second_field_count data,\n",
    "    # in position pos + some width buffer,\n",
    "    plt.bar([p + width for p in pos], \n",
    "            #using df['univs_climatology_counts'] data,\n",
    "            df[second_field_count],\n",
    "            # of width\n",
    "            width, \n",
    "            # with alpha 0.5\n",
    "            alpha=0.5, \n",
    "            # with color\n",
    "            color=colors2plot[second_field_count],\n",
    "            )\n",
    "    \n",
    "    # Create a bar with third_field_count data,\n",
    "    # in position pos + 2*some width buffer,\n",
    "    plt.bar([p + 2*width for p in pos], \n",
    "            #using df['univs_medicine_counts'] data,\n",
    "            df[third_field_count],\n",
    "            # of width\n",
    "            width, \n",
    "            # with alpha 0.5\n",
    "            alpha=0.5, \n",
    "            # with color\n",
    "            color=colors2plot[third_field_count],\n",
    "            )\n",
    "    \n",
    "    \n",
    "    \n",
    "\n",
    "    # Set the y axis label\n",
    "    ax.set_ylabel(ylabel)\n",
    "\n",
    "    # Set the x axis label\n",
    "    ax.set_xlabel(xlabel)\n",
    "\n",
    "    # Set the position of the x ticks\n",
    "    ax.set_xticks([p + 0.5 * width for p in pos])\n",
    "\n",
    "    # Set the labels for the x ticks\n",
    "    ax.set_xticklabels(df['univs_name'], rotation='vertical')\n",
    "\n",
    "    # Setting the x-axis and y-axis limits\n",
    "    plt.xlim(min(pos)-width, max(pos)+width*4)\n",
    "    plt.ylim([0, max(df[sorting_field_count] + df[second_field_count] + df[third_field_count])] )\n",
    "\n",
    "    # Adding the legend and showing the plot\n",
    "    plt.legend(legend_text, loc='upper left')\n",
    "    plt.grid()\n",
    "    \n",
    "    label_bar_with_value(ax, sorting_field_bar, sorting_field_proportion_value_labels)\n",
    "    \n",
    "    if save_file:\n",
    "        plt.savefig(save_fname+\".png\", bbox_inches='tight', dpi=300)\n",
    "        plt.savefig(save_fname+\".pdf\", bbox_inches='tight', dpi=900)\n",
    "    \n",
    "    plt.close()\n",
    "    return fig\n",
    "\n",
    "def create_gender_count_distribution_bar_chart(univs_details, save_fname, x_label, save_file=True):\n",
    "    # https://chrisalbon.com/python/data_visualization/matplotlib_grouped_bar_plot/\n",
    "    # https://stackoverflow.com/a/42498711/530399\n",
    "    \n",
    "    univs_name = [x for x in univs_details.keys()]\n",
    "    univs_data = univs_details.values()\n",
    "    univs_male_counts = [x['count_male_authors'] for x in univs_data]\n",
    "    univs_female_counts = [x['count_female_authors'] for x in univs_data]\n",
    "    univs_unknown_counts = [x['count_unknown_authors'] for x in univs_data]\n",
    "    percent_male_authors = [x['percent_male_authors'] for x in univs_data]\n",
    "    percent_female_authors = [x['percent_female_authors'] for x in univs_data]\n",
    "    percent_unknown_authors = [x['percent_unknown_authors'] for x in univs_data]\n",
    "    \n",
    "    \n",
    "    raw_data = {'univs_name': univs_name,\n",
    "        'univs_male_counts': univs_male_counts,\n",
    "        'univs_female_counts' : univs_female_counts,\n",
    "        'univs_unknown_counts': univs_unknown_counts,\n",
    "        'percent_male_authors': percent_male_authors,\n",
    "        'percent_female_authors': percent_female_authors,\n",
    "        'percent_unknown_authors': percent_unknown_authors\n",
    "               }\n",
    "    df = pd.DataFrame(raw_data, columns = ['univs_name', 'univs_male_counts', 'univs_female_counts', 'univs_unknown_counts', 'percent_male_authors', 'percent_female_authors', 'percent_unknown_authors'])    \n",
    "\n",
    "    #     print(df)\n",
    "\n",
    "    colors2plot={'univs_male_counts':'green', 'univs_female_counts':'red', 'univs_unknown_counts':'blue'}\n",
    "    xlabel = x_label + \" -- Ranked by \"\n",
    "    ylabel = \"Authorship Counts\"\n",
    "    \n",
    "    \n",
    "    \n",
    "    sorted_plot1 = create_sorted_plot(df, 'univs_male_counts', 'percent_male_authors', ['univs_female_counts', 'univs_unknown_counts'], colors2plot, ylabel, xlabel + \"Male\"+\" Authorship Counts\", legend_text=['Male Authorship Counts', 'Female Authorship Counts', 'Unknown Authorship Counts'], save_fname = save_fname+\"_sorted_Male\", save_file=save_file)\n",
    "   \n",
    "    sorted_plot2 = create_sorted_plot(df, 'univs_female_counts', 'percent_female_authors', ['univs_unknown_counts', 'univs_male_counts'], colors2plot, ylabel, xlabel + \"Female\"+\" Authorship Counts\", legend_text=['Female Authorship Counts', 'Unknown Authorship Counts', 'Male Authorship Counts'], save_fname = save_fname+\"_sorted_Female\", save_file=save_file)\n",
    "    \n",
    "    sorted_plot3 = create_sorted_plot(df, 'univs_unknown_counts', 'percent_unknown_authors', ['univs_male_counts', 'univs_female_counts'], colors2plot, ylabel, xlabel + \"Unknown\"+\" Authorship Counts\", legend_text=['Unknown Authorship Counts', 'Male Authorship Counts', 'Female Authorship Counts'], save_fname = save_fname+\"_sorted_Unknown\", save_file=save_file)\n",
    "    \n",
    "    return sorted_plot1, sorted_plot2, sorted_plot3"
   ]
  },
  {
   "cell_type": "code",
   "execution_count": null,
   "metadata": {},
   "outputs": [],
   "source": [
    "country_name = 'austria'\n",
    "univs_details = all_countries_all_univs_gender_info[country_name]\n",
    "\n",
    "\n",
    "sorted_plot1, sorted_plot2, sorted_plot3 = create_gender_count_distribution_bar_chart(univs_details, save_fname = join(output_dir,country_name+\"_\"+'gender_count_distribution'), x_label = (\"Universities in \"+cnames_for_plot[country_name]), save_file=False)"
   ]
  },
  {
   "cell_type": "code",
   "execution_count": null,
   "metadata": {},
   "outputs": [],
   "source": [
    "sorted_plot1"
   ]
  },
  {
   "cell_type": "code",
   "execution_count": null,
   "metadata": {},
   "outputs": [],
   "source": [
    "sorted_plot2"
   ]
  },
  {
   "cell_type": "code",
   "execution_count": null,
   "metadata": {},
   "outputs": [],
   "source": [
    "sorted_plot3"
   ]
  },
  {
   "cell_type": "code",
   "execution_count": null,
   "metadata": {},
   "outputs": [],
   "source": [
    "for country_name, univs_details in all_countries_all_univs_gender_info.items():\n",
    "    create_gender_count_distribution_bar_chart(univs_details, save_fname = join(output_dir,country_name+\"_\"+'gender_count_distribution'), x_label = (\"Universities in \"+cnames_for_plot[country_name]), save_file=True)"
   ]
  },
  {
   "cell_type": "code",
   "execution_count": null,
   "metadata": {},
   "outputs": [],
   "source": []
  },
  {
   "cell_type": "code",
   "execution_count": null,
   "metadata": {},
   "outputs": [],
   "source": [
    "print(\"\\n\\n\\nCompleted!!!\")"
   ]
  },
  {
   "cell_type": "code",
   "execution_count": null,
   "metadata": {},
   "outputs": [],
   "source": []
  },
  {
   "cell_type": "code",
   "execution_count": null,
   "metadata": {},
   "outputs": [],
   "source": []
  }
 ],
 "metadata": {
  "language_info": {
   "name": "python",
   "pygments_lexer": "ipython3"
  }
 },
 "nbformat": 4,
 "nbformat_minor": 2
}
